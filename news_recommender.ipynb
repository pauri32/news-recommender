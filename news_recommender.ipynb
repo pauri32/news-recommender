{
  "cells": [
    {
      "cell_type": "markdown",
      "metadata": {
        "id": "bJJrLYk1ftgS"
      },
      "source": [
        "# 1. Installs and imports\n",
        "\n",
        "The next cells install and import the needed packages to execute the code."
      ]
    },
    {
      "cell_type": "code",
      "execution_count": null,
      "metadata": {
        "id": "Sv8IiGfxpr0N"
      },
      "outputs": [],
      "source": [
        "!pip3 install pandas numpy nltk matplotlib evaltools"
      ]
    },
    {
      "cell_type": "code",
      "execution_count": null,
      "metadata": {
        "id": "i1kAsi3Kp3x6"
      },
      "outputs": [],
      "source": [
        "import nltk\n",
        "nltk.download('all')"
      ]
    },
    {
      "cell_type": "code",
      "execution_count": null,
      "metadata": {
        "id": "ifrHNaHiIBU1"
      },
      "outputs": [],
      "source": [
        "#Set a seed to produce reproducible results\n",
        "import random\n",
        "random.seed(10)"
      ]
    },
    {
      "cell_type": "code",
      "execution_count": null,
      "metadata": {
        "id": "xXxL7iBnqFnt"
      },
      "outputs": [],
      "source": [
        "#Imports\n",
        "import numpy as np # linear algebra\n",
        "import pandas as pd # data processing, CSV file I/O (e.g. pd.read_csv)\n",
        "import string as st\n",
        "import re\n",
        "from nltk import PorterStemmer, WordNetLemmatizer\n",
        "from sklearn.model_selection import train_test_split\n",
        "from sklearn.feature_extraction.text import TfidfVectorizer\n",
        "from sklearn.svm import LinearSVC\n",
        "from sklearn.model_selection import GridSearchCV\n",
        "from sklearn.preprocessing import label_binarize, LabelEncoder\n",
        "from sklearn.metrics import accuracy_score, classification_report, balanced_accuracy_score, average_precision_score, precision_recall_curve, confusion_matrix, ConfusionMatrixDisplay, PrecisionRecallDisplay\n",
        "from sklearn.metrics import roc_auc_score, roc_curve, auc\n",
        "import matplotlib.pyplot as plt\n",
        "from random import randint, sample"
      ]
    },
    {
      "cell_type": "code",
      "execution_count": null,
      "metadata": {
        "id": "CjX6-ebOkixX"
      },
      "outputs": [],
      "source": [
        "# Set the root_path to your directory\n",
        "root_path='/path/to/directory/'"
      ]
    },
    {
      "cell_type": "markdown",
      "metadata": {
        "id": "rCLI5Vxrf7ez"
      },
      "source": [
        "# 2. Dataset preparation\n",
        "\n",
        "* First ten rows of the dataset:"
      ]
    },
    {
      "cell_type": "code",
      "execution_count": null,
      "metadata": {
        "id": "yNAOcVoof-FS"
      },
      "outputs": [],
      "source": [
        "# Read the data. \n",
        "data = pd.read_json(root_path, lines=True)\n",
        "data.head(10)"
      ]
    },
    {
      "cell_type": "markdown",
      "metadata": {
        "id": "V1Q-44VmeY7k"
      },
      "source": [
        "* Size of the dataset:"
      ]
    },
    {
      "cell_type": "code",
      "execution_count": null,
      "metadata": {
        "id": "iPtK9SDaqRW_"
      },
      "outputs": [],
      "source": [
        "data.shape"
      ]
    },
    {
      "cell_type": "markdown",
      "metadata": {
        "id": "XjVV-6LaeLKb"
      },
      "source": [
        "*   Number of items per category:"
      ]
    },
    {
      "cell_type": "code",
      "execution_count": null,
      "metadata": {
        "id": "udY-QUDUCWKK"
      },
      "outputs": [],
      "source": [
        "#Count number of items per category\n",
        "hl_count = data.groupby('category').count()['headline']\n",
        "#hl_count.sort_values(0)\n",
        "\n",
        "plt.figure(figsize=(10,5))\n",
        "y_pos = np.arange(len(hl_count.index))\n",
        "\n",
        "plt.bar(y_pos, hl_count.values, align='center', alpha=0.5)\n",
        "plt.xticks(y_pos, hl_count.index)\n",
        "plt.ylabel('Number of headlines')\n",
        "plt.xticks(rotation=90)\n",
        "plt.title('Categories')\n",
        "\n",
        "plt.show()"
      ]
    },
    {
      "cell_type": "markdown",
      "metadata": {
        "id": "XPIXiv4EGvCu"
      },
      "source": [
        "We filter the data according to the categories 'POLITICS', 'WELLNESS', 'ENTERTAINMENT', 'TRAVEL' and 'STYLE & BEAUTY'."
      ]
    },
    {
      "cell_type": "code",
      "execution_count": null,
      "metadata": {
        "id": "FI26UTtz1ibP"
      },
      "outputs": [],
      "source": [
        "categories = ['POLITICS', 'WELLNESS', 'ENTERTAINMENT', 'TRAVEL', 'STYLE & BEAUTY']\n",
        "data = data.loc[data['category'].isin(categories)]\n",
        "data = data.reset_index(drop=True)\n",
        "data"
      ]
    },
    {
      "cell_type": "markdown",
      "metadata": {
        "id": "zDMf8TN1hXI7"
      },
      "source": [
        "New size of the dataset:"
      ]
    },
    {
      "cell_type": "code",
      "execution_count": null,
      "metadata": {
        "id": "sczl_t6CH0bn"
      },
      "outputs": [],
      "source": [
        "data.shape"
      ]
    },
    {
      "cell_type": "markdown",
      "metadata": {
        "id": "bGOwDw0ptEKs"
      },
      "source": [
        "# 3. Text cleaning and processing steps\n",
        "\n",
        "The next steps were followed to clean the text in the headline column:\n",
        "\n",
        "1.   Convert all the text into lower case.\n",
        "2.   Remove punctuations.\n",
        "2.   Convert text into tokens.\n",
        "3.   Remove stopwords using NLTK corpus stopwords list to match them.\n",
        "4.   Apply lemmatization.\n",
        "5.   Convert words to feature vectors."
      ]
    },
    {
      "cell_type": "code",
      "execution_count": null,
      "metadata": {
        "id": "W-MNZEudtBbj"
      },
      "outputs": [],
      "source": [
        "# Remove all punctuations from the text\n",
        "def remove_punct(text):\n",
        "    return (\"\".join([ch for ch in text if ch not in st.punctuation]))"
      ]
    },
    {
      "cell_type": "code",
      "execution_count": null,
      "metadata": {
        "id": "3VHy4hritH0G"
      },
      "outputs": [],
      "source": [
        "# Convert text to lower case tokens\n",
        "def tokenize(text):\n",
        "    text = re.split('\\s+' ,text)\n",
        "    return [x.lower() for x in text]"
      ]
    },
    {
      "cell_type": "code",
      "execution_count": null,
      "metadata": {
        "id": "0Phw03fytLu4"
      },
      "outputs": [],
      "source": [
        "# Remove tokens of length less than 3\n",
        "def remove_small_words(text):\n",
        "    return [x for x in text if len(x) > 3 ]"
      ]
    },
    {
      "cell_type": "code",
      "execution_count": null,
      "metadata": {
        "id": "d0NTe3ketQLt"
      },
      "outputs": [],
      "source": [
        "# Remove stopwords using NLTK corpus list\n",
        "def remove_stopwords(text):\n",
        "    return [word for word in text if word not in nltk.corpus.stopwords.words('english')]"
      ]
    },
    {
      "cell_type": "code",
      "execution_count": null,
      "metadata": {
        "id": "n5YMmxqIuIOw"
      },
      "outputs": [],
      "source": [
        "# Apply lemmatization on tokens\n",
        "def lemmatize(text):\n",
        "    word_net = WordNetLemmatizer()\n",
        "    return [word_net.lemmatize(word) for word in text]"
      ]
    },
    {
      "cell_type": "code",
      "execution_count": null,
      "metadata": {
        "id": "h4GiZD0KuhY0"
      },
      "outputs": [],
      "source": [
        "# Create sentences to get clean text as input for vectors\n",
        "def return_sentences(tokens):\n",
        "    return \" \".join([word for word in tokens])"
      ]
    },
    {
      "cell_type": "code",
      "execution_count": null,
      "metadata": {
        "id": "5rOpztqkuaWF"
      },
      "outputs": [],
      "source": [
        "#Apply preprocessing to text\n",
        "def preprocess(text):\n",
        "  return return_sentences(lemmatize(remove_stopwords(remove_small_words(tokenize(remove_punct(text).lower())))))"
      ]
    },
    {
      "cell_type": "code",
      "execution_count": null,
      "metadata": {
        "colab": {
          "base_uri": "https://localhost:8080/",
          "height": 580
        },
        "id": "kFsYJpDbxIS4",
        "outputId": "4042d186-2b70-4a36-96a1-0ade132b793b"
      },
      "outputs": [
        {
          "data": {
            "text/html": [
              "\n",
              "  <div id=\"df-ebd13292-1ef0-4df1-a666-4e47c27b9f4d\">\n",
              "    <div class=\"colab-df-container\">\n",
              "      <div>\n",
              "<style scoped>\n",
              "    .dataframe tbody tr th:only-of-type {\n",
              "        vertical-align: middle;\n",
              "    }\n",
              "\n",
              "    .dataframe tbody tr th {\n",
              "        vertical-align: top;\n",
              "    }\n",
              "\n",
              "    .dataframe thead th {\n",
              "        text-align: right;\n",
              "    }\n",
              "</style>\n",
              "<table border=\"1\" class=\"dataframe\">\n",
              "  <thead>\n",
              "    <tr style=\"text-align: right;\">\n",
              "      <th></th>\n",
              "      <th>category</th>\n",
              "      <th>headline</th>\n",
              "      <th>authors</th>\n",
              "      <th>link</th>\n",
              "      <th>short_description</th>\n",
              "      <th>date</th>\n",
              "      <th>clean_headline</th>\n",
              "    </tr>\n",
              "  </thead>\n",
              "  <tbody>\n",
              "    <tr>\n",
              "      <th>0</th>\n",
              "      <td>ENTERTAINMENT</td>\n",
              "      <td>Will Smith Joins Diplo And Nicky Jam For The 2...</td>\n",
              "      <td>Andy McDonald</td>\n",
              "      <td>https://www.huffingtonpost.com/entry/will-smit...</td>\n",
              "      <td>Of course it has a song.</td>\n",
              "      <td>2018-05-26</td>\n",
              "      <td>smith join diplo nicky 2018 world cup official...</td>\n",
              "    </tr>\n",
              "    <tr>\n",
              "      <th>1</th>\n",
              "      <td>ENTERTAINMENT</td>\n",
              "      <td>Hugh Grant Marries For The First Time At Age 57</td>\n",
              "      <td>Ron Dicker</td>\n",
              "      <td>https://www.huffingtonpost.com/entry/hugh-gran...</td>\n",
              "      <td>The actor and his longtime girlfriend Anna Ebe...</td>\n",
              "      <td>2018-05-26</td>\n",
              "      <td>hugh grant marries first time</td>\n",
              "    </tr>\n",
              "    <tr>\n",
              "      <th>2</th>\n",
              "      <td>ENTERTAINMENT</td>\n",
              "      <td>Jim Carrey Blasts 'Castrato' Adam Schiff And D...</td>\n",
              "      <td>Ron Dicker</td>\n",
              "      <td>https://www.huffingtonpost.com/entry/jim-carre...</td>\n",
              "      <td>The actor gives Dems an ass-kicking for not fi...</td>\n",
              "      <td>2018-05-26</td>\n",
              "      <td>carrey blast castrato adam schiff democrat art...</td>\n",
              "    </tr>\n",
              "    <tr>\n",
              "      <th>3</th>\n",
              "      <td>ENTERTAINMENT</td>\n",
              "      <td>Julianna Margulies Uses Donald Trump Poop Bags...</td>\n",
              "      <td>Ron Dicker</td>\n",
              "      <td>https://www.huffingtonpost.com/entry/julianna-...</td>\n",
              "      <td>The \"Dietland\" actress said using the bags is ...</td>\n",
              "      <td>2018-05-26</td>\n",
              "      <td>julianna margulies us donald trump poop bag pick</td>\n",
              "    </tr>\n",
              "    <tr>\n",
              "      <th>4</th>\n",
              "      <td>ENTERTAINMENT</td>\n",
              "      <td>Morgan Freeman 'Devastated' That Sexual Harass...</td>\n",
              "      <td>Ron Dicker</td>\n",
              "      <td>https://www.huffingtonpost.com/entry/morgan-fr...</td>\n",
              "      <td>\"It is not right to equate horrific incidents ...</td>\n",
              "      <td>2018-05-26</td>\n",
              "      <td>morgan freeman devastated sexual harassment cl...</td>\n",
              "    </tr>\n",
              "  </tbody>\n",
              "</table>\n",
              "</div>\n",
              "      <button class=\"colab-df-convert\" onclick=\"convertToInteractive('df-ebd13292-1ef0-4df1-a666-4e47c27b9f4d')\"\n",
              "              title=\"Convert this dataframe to an interactive table.\"\n",
              "              style=\"display:none;\">\n",
              "        \n",
              "  <svg xmlns=\"http://www.w3.org/2000/svg\" height=\"24px\"viewBox=\"0 0 24 24\"\n",
              "       width=\"24px\">\n",
              "    <path d=\"M0 0h24v24H0V0z\" fill=\"none\"/>\n",
              "    <path d=\"M18.56 5.44l.94 2.06.94-2.06 2.06-.94-2.06-.94-.94-2.06-.94 2.06-2.06.94zm-11 1L8.5 8.5l.94-2.06 2.06-.94-2.06-.94L8.5 2.5l-.94 2.06-2.06.94zm10 10l.94 2.06.94-2.06 2.06-.94-2.06-.94-.94-2.06-.94 2.06-2.06.94z\"/><path d=\"M17.41 7.96l-1.37-1.37c-.4-.4-.92-.59-1.43-.59-.52 0-1.04.2-1.43.59L10.3 9.45l-7.72 7.72c-.78.78-.78 2.05 0 2.83L4 21.41c.39.39.9.59 1.41.59.51 0 1.02-.2 1.41-.59l7.78-7.78 2.81-2.81c.8-.78.8-2.07 0-2.86zM5.41 20L4 18.59l7.72-7.72 1.47 1.35L5.41 20z\"/>\n",
              "  </svg>\n",
              "      </button>\n",
              "      \n",
              "  <style>\n",
              "    .colab-df-container {\n",
              "      display:flex;\n",
              "      flex-wrap:wrap;\n",
              "      gap: 12px;\n",
              "    }\n",
              "\n",
              "    .colab-df-convert {\n",
              "      background-color: #E8F0FE;\n",
              "      border: none;\n",
              "      border-radius: 50%;\n",
              "      cursor: pointer;\n",
              "      display: none;\n",
              "      fill: #1967D2;\n",
              "      height: 32px;\n",
              "      padding: 0 0 0 0;\n",
              "      width: 32px;\n",
              "    }\n",
              "\n",
              "    .colab-df-convert:hover {\n",
              "      background-color: #E2EBFA;\n",
              "      box-shadow: 0px 1px 2px rgba(60, 64, 67, 0.3), 0px 1px 3px 1px rgba(60, 64, 67, 0.15);\n",
              "      fill: #174EA6;\n",
              "    }\n",
              "\n",
              "    [theme=dark] .colab-df-convert {\n",
              "      background-color: #3B4455;\n",
              "      fill: #D2E3FC;\n",
              "    }\n",
              "\n",
              "    [theme=dark] .colab-df-convert:hover {\n",
              "      background-color: #434B5C;\n",
              "      box-shadow: 0px 1px 3px 1px rgba(0, 0, 0, 0.15);\n",
              "      filter: drop-shadow(0px 1px 2px rgba(0, 0, 0, 0.3));\n",
              "      fill: #FFFFFF;\n",
              "    }\n",
              "  </style>\n",
              "\n",
              "      <script>\n",
              "        const buttonEl =\n",
              "          document.querySelector('#df-ebd13292-1ef0-4df1-a666-4e47c27b9f4d button.colab-df-convert');\n",
              "        buttonEl.style.display =\n",
              "          google.colab.kernel.accessAllowed ? 'block' : 'none';\n",
              "\n",
              "        async function convertToInteractive(key) {\n",
              "          const element = document.querySelector('#df-ebd13292-1ef0-4df1-a666-4e47c27b9f4d');\n",
              "          const dataTable =\n",
              "            await google.colab.kernel.invokeFunction('convertToInteractive',\n",
              "                                                     [key], {});\n",
              "          if (!dataTable) return;\n",
              "\n",
              "          const docLinkHtml = 'Like what you see? Visit the ' +\n",
              "            '<a target=\"_blank\" href=https://colab.research.google.com/notebooks/data_table.ipynb>data table notebook</a>'\n",
              "            + ' to learn more about interactive tables.';\n",
              "          element.innerHTML = '';\n",
              "          dataTable['output_type'] = 'display_data';\n",
              "          await google.colab.output.renderOutput(dataTable, element);\n",
              "          const docLink = document.createElement('div');\n",
              "          docLink.innerHTML = docLinkHtml;\n",
              "          element.appendChild(docLink);\n",
              "        }\n",
              "      </script>\n",
              "    </div>\n",
              "  </div>\n",
              "  "
            ],
            "text/plain": [
              "        category                                           headline  \\\n",
              "0  ENTERTAINMENT  Will Smith Joins Diplo And Nicky Jam For The 2...   \n",
              "1  ENTERTAINMENT    Hugh Grant Marries For The First Time At Age 57   \n",
              "2  ENTERTAINMENT  Jim Carrey Blasts 'Castrato' Adam Schiff And D...   \n",
              "3  ENTERTAINMENT  Julianna Margulies Uses Donald Trump Poop Bags...   \n",
              "4  ENTERTAINMENT  Morgan Freeman 'Devastated' That Sexual Harass...   \n",
              "\n",
              "         authors                                               link  \\\n",
              "0  Andy McDonald  https://www.huffingtonpost.com/entry/will-smit...   \n",
              "1     Ron Dicker  https://www.huffingtonpost.com/entry/hugh-gran...   \n",
              "2     Ron Dicker  https://www.huffingtonpost.com/entry/jim-carre...   \n",
              "3     Ron Dicker  https://www.huffingtonpost.com/entry/julianna-...   \n",
              "4     Ron Dicker  https://www.huffingtonpost.com/entry/morgan-fr...   \n",
              "\n",
              "                                   short_description       date  \\\n",
              "0                           Of course it has a song. 2018-05-26   \n",
              "1  The actor and his longtime girlfriend Anna Ebe... 2018-05-26   \n",
              "2  The actor gives Dems an ass-kicking for not fi... 2018-05-26   \n",
              "3  The \"Dietland\" actress said using the bags is ... 2018-05-26   \n",
              "4  \"It is not right to equate horrific incidents ... 2018-05-26   \n",
              "\n",
              "                                      clean_headline  \n",
              "0  smith join diplo nicky 2018 world cup official...  \n",
              "1                      hugh grant marries first time  \n",
              "2  carrey blast castrato adam schiff democrat art...  \n",
              "3   julianna margulies us donald trump poop bag pick  \n",
              "4  morgan freeman devastated sexual harassment cl...  "
            ]
          },
          "execution_count": 28,
          "metadata": {},
          "output_type": "execute_result"
        }
      ],
      "source": [
        "data['clean_headline'] = data['headline'].apply(lambda x : preprocess(x))\n",
        "data.head()"
      ]
    },
    {
      "cell_type": "markdown",
      "metadata": {
        "id": "XeSFminYz8Fo"
      },
      "source": [
        "After the text cleaning, it was applied the **TF-IDF**. \n",
        "\n",
        "The dataset was divided into training and test with the next percentages:\n",
        "\n",
        "* Train size: 0.75\n",
        "* Test size: 0.25"
      ]
    },
    {
      "cell_type": "code",
      "execution_count": null,
      "metadata": {
        "id": "fWrgDLJasU12"
      },
      "outputs": [],
      "source": [
        "headlines=data[\"clean_headline\"]\n",
        "labels=data[\"category\"]\n",
        "\n",
        "X_train, X_test, Y_train, Y_test = train_test_split(headlines, labels, train_size=0.75, test_size=0.25, random_state=42)"
      ]
    },
    {
      "cell_type": "code",
      "execution_count": null,
      "metadata": {
        "id": "MWq9tqw5z9DM"
      },
      "outputs": [],
      "source": [
        "# Convert lemmatized words to Tf-Idf feature vectors\n",
        "tfidf = TfidfVectorizer()\n",
        "tfidf_train_headline = tfidf.fit_transform(X_train)\n",
        "print(tfidf_train_headline.shape)"
      ]
    },
    {
      "cell_type": "markdown",
      "metadata": {
        "id": "ZhTDhpCIIL81"
      },
      "source": [
        "# 4. Model building\n",
        "\n",
        "We have selected the **SVC model** as it was the most accurate."
      ]
    },
    {
      "cell_type": "code",
      "execution_count": null,
      "metadata": {
        "colab": {
          "base_uri": "https://localhost:8080/"
        },
        "id": "pxKHSChD7FQV",
        "outputId": "a3ff4b49-e88f-4a17-ab04-69f694245afe"
      },
      "outputs": [
        {
          "data": {
            "text/plain": [
              "LinearSVC(C=0.7, class_weight='balanced', loss='hinge', random_state=9)"
            ]
          },
          "execution_count": 31,
          "metadata": {},
          "output_type": "execute_result"
        }
      ],
      "source": [
        "clf = LinearSVC(C=0.7, class_weight='balanced', loss='hinge', penalty='l2', random_state=9)\n",
        "\n",
        "clf.fit(tfidf_train_headline, Y_train)"
      ]
    },
    {
      "cell_type": "code",
      "execution_count": null,
      "metadata": {
        "id": "Fm3dnvMrAroe"
      },
      "outputs": [],
      "source": [
        "tfidf_test_headline = tfidf.transform(X_test)\n",
        "pred_headline = clf.predict(tfidf_test_headline)"
      ]
    },
    {
      "cell_type": "markdown",
      "metadata": {
        "id": "KLKrwKG5j5o8"
      },
      "source": [
        "# 5. Evaluation of the model"
      ]
    },
    {
      "cell_type": "code",
      "execution_count": null,
      "metadata": {
        "id": "ozGXwHA9Z5ri"
      },
      "outputs": [],
      "source": [
        "#Encode categories\n",
        "le = LabelEncoder()\n",
        "data['category'] = le.fit_transform(data.category)\n",
        "classes = list(le.classes_)\n",
        "print(classes)"
      ]
    },
    {
      "cell_type": "code",
      "execution_count": null,
      "metadata": {
        "id": "BPTRCPrFybV4"
      },
      "outputs": [],
      "source": [
        "# Function that computes the evaluation of a model\n",
        "def evaluate(data, model):\n",
        "  print(\"The accuracy of the model is: \" + str(accuracy_score(data, model)))\n",
        "  print(\"The balanced accuracy of the model is: \" + str(balanced_accuracy_score(data, model)))\n",
        "  print(\"The classification report of the model is: \\n\" + str(classification_report(data, model)))\n",
        "  #print(\"The mean average precision of the model is: \" + str(average_precision_score(data,model)))\n",
        "  cm = confusion_matrix(data, model)\n",
        "  print(\"The confusion matrix is: \")\n",
        "\n",
        "  cm_display = ConfusionMatrixDisplay(cm,display_labels=classes)\n",
        "  cm_display.plot(xticks_rotation=69)\n",
        "  rocCurve(data,model)\n",
        "  precRecCurve(data,model)\n",
        "\n",
        "def precRecCurve(data,model):\n",
        "  plt.figure(figsize=(10,5))\n",
        "\n",
        "  n_classes = len(classes)\n",
        "  y_test = label_binarize(data, classes=classes)\n",
        "  y_pred = label_binarize(model, classes=classes)\n",
        "\n",
        "  # precision recall curve\n",
        "  precision = dict()\n",
        "  recall = dict()\n",
        "  for i in range(n_classes):\n",
        "      precision[i], recall[i], _ = precision_recall_curve(y_test[:, i],\n",
        "                                                          y_pred[:, i])\n",
        "      plt.plot(recall[i], precision[i], lw=2, label=classes[i])\n",
        "      \n",
        "  plt.xlabel(\"recall\")\n",
        "  plt.ylabel(\"precision\")\n",
        "  plt.legend(loc=\"best\")\n",
        "  plt.title(\"precision vs. recall curve\")\n",
        "  plt.show()\n",
        "\n",
        "def rocCurve(data,model):\n",
        "  y_test = label_binarize(data, classes=classes)\n",
        "  y_pred = label_binarize(model, classes=classes)\n",
        "\n",
        "  fpr = dict()\n",
        "  tpr = dict()\n",
        "  roc_auc = dict()\n",
        "  \n",
        "  n_classes = len(classes)\n",
        "  for i in range(n_classes):\n",
        "    fpr[i], tpr[i], _ = roc_curve(y_test[:, i], y_pred[:, i])\n",
        "    roc_auc[i] = auc(fpr[i], tpr[i])\n",
        "  # Compute micro-average ROC curve and ROC area\n",
        "  fpr[\"micro\"], tpr[\"micro\"], _ = roc_curve(y_test.ravel(), y_pred.ravel())\n",
        "  roc_auc[\"micro\"] = auc(fpr[\"micro\"], tpr[\"micro\"])\n",
        "\n",
        "  # First aggregate all false positive rates\n",
        "  all_fpr = np.unique(np.concatenate([fpr[i] for i in range(n_classes)]))\n",
        "\n",
        "  # Then interpolate all ROC curves at this points\n",
        "  mean_tpr = np.zeros_like(all_fpr)\n",
        "  for i in range(n_classes):\n",
        "    mean_tpr += np.interp(all_fpr, fpr[i], tpr[i])\n",
        "\n",
        "  # Finally average it and compute AUC\n",
        "  mean_tpr /= n_classes\n",
        "\n",
        "  fpr[\"macro\"] = all_fpr\n",
        "  tpr[\"macro\"] = mean_tpr\n",
        "  roc_auc[\"macro\"] = auc(fpr[\"macro\"], tpr[\"macro\"])\n",
        "\n",
        "  # Plot all ROC curves\n",
        "  plt.figure(figsize=(10,5))\n",
        "  lw = 2\n",
        "  plt.plot(fpr[\"micro\"], tpr[\"micro\"],\n",
        "              label=\"micro-average ROC curve (area = {0:0.2f})\".format(roc_auc[\"micro\"]),\n",
        "              color=\"tab:pink\", linestyle=\":\", linewidth=4,)\n",
        "\n",
        "  plt.plot(fpr[\"macro\"], tpr[\"macro\"],\n",
        "              label=\"macro-average ROC curve (area = {0:0.2f})\".format(roc_auc[\"macro\"]),\n",
        "              color=\"tab:gray\", linestyle=\":\", linewidth=4,)\n",
        "\n",
        "  colors = [\"tab:blue\", \"tab:orange\", \"tab:green\", \"tab:red\", \"tab:purple\"]\n",
        "  #colors = [\"tab:blue\", \"tab:orange\", \"tab:green\"]\n",
        "  for i, color in enumerate(colors):\n",
        "      type_class = str(classes[i])\n",
        "      plt.plot(fpr[i], tpr[i], color=color, lw=lw, \n",
        "                  label=\"ROC curve of \" + type_class +\" (area = {1:0.2f})\".format(i, roc_auc[i]),)\n",
        "  plt.plot([0, 1], [0, 1], \"k--\", lw=lw)\n",
        "  plt.xlim([0.0, 1.0])\n",
        "  plt.ylim([0.0, 1.05])\n",
        "  plt.xlabel(\"False Positive Rate\")\n",
        "  plt.ylabel(\"True Positive Rate\")\n",
        "  plt.title(\"ROC curve\")\n",
        "  plt.legend()\n",
        "  "
      ]
    },
    {
      "cell_type": "code",
      "execution_count": null,
      "metadata": {
        "colab": {
          "base_uri": "https://localhost:8080/",
          "height": 1000
        },
        "id": "_pvQxlCeB1Ee",
        "outputId": "f62804c0-5bdc-4f7f-b352-c14aefde63c5"
      },
      "outputs": [
        {
          "name": "stdout",
          "output_type": "stream",
          "text": [
            "The accuracy of the model is: 0.8748375116063138\n",
            "The balanced accuracy of the model is: 0.8655799107789865\n",
            "The classification report of the model is: \n",
            "                precision    recall  f1-score   support\n",
            "\n",
            " ENTERTAINMENT       0.86      0.82      0.84      4133\n",
            "      POLITICS       0.93      0.91      0.92      8078\n",
            "STYLE & BEAUTY       0.85      0.87      0.86      2397\n",
            "        TRAVEL       0.83      0.85      0.84      2449\n",
            "      WELLNESS       0.83      0.87      0.85      4483\n",
            "\n",
            "      accuracy                           0.87     21540\n",
            "     macro avg       0.86      0.87      0.86     21540\n",
            "  weighted avg       0.88      0.87      0.88     21540\n",
            "\n",
            "The confusion matrix is: \n"
          ]
        },
        {
          "data": {
            "image/png": "[encoded data removed]",
            "text/plain": [
              "<Figure size 432x288 with 2 Axes>"
            ]
          },
          "metadata": {
            "needs_background": "light"
          },
          "output_type": "display_data"
        },
        {
          "data": {
            "image/png": "[encoded data removed]",
            "text/plain": [
              "<Figure size 720x360 with 1 Axes>"
            ]
          },
          "metadata": {
            "needs_background": "light"
          },
          "output_type": "display_data"
        },
        {
          "data": {
            "image/png": "[encoded data removed]",
            "text/plain": [
              "<Figure size 720x360 with 1 Axes>"
            ]
          },
          "metadata": {
            "needs_background": "light"
          },
          "output_type": "display_data"
        }
      ],
      "source": [
        "evaluate(Y_test,pred_headline)"
      ]
    },
    {
      "cell_type": "markdown",
      "metadata": {
        "id": "21HhyIj6gda1"
      },
      "source": [
        "# 6. User generation"
      ]
    },
    {
      "cell_type": "code",
      "execution_count": null,
      "metadata": {
        "id": "_4AH4tbWIk55"
      },
      "outputs": [],
      "source": [
        "#We created a class user to generate users and their preferences\n",
        "class User:\n",
        "  def __init__(self, id, hobbies):\n",
        "    self.id = id\n",
        "    self.hobbies = hobbies\n",
        "\n",
        "  def getHobbies(self):\n",
        "    return self.hobbies\n",
        "  \n",
        "  def addHobby(self,hobby):\n",
        "    self.hobbies.append(hobby)\n",
        "  \n",
        "  def delHobby(self,hobby):\n",
        "    self.hobbies.remove(hobby)"
      ]
    },
    {
      "cell_type": "code",
      "execution_count": null,
      "metadata": {
        "id": "NJVfD4FlJJJU"
      },
      "outputs": [],
      "source": [
        "#We define some functions to create the users list and recommend a topic to the list of users\n",
        "def getTopic(text, model):\n",
        "    preText = preprocess(text)  \n",
        "    tfidfText = tfidf.transform([preText])\n",
        "    return model.predict(tfidfText)\n",
        "\n",
        "def create_users(num_users):\n",
        "    user_list = []\n",
        "    for id in range(0, num_users):\n",
        "        hobbies = sample(categories, randint(1, len(categories)))\n",
        "        user_list.append(User(id, hobbies))\n",
        "    return user_list\n",
        "\n",
        "def recommend(users, text, model):\n",
        "    recommendations=[]\n",
        "    topic = getTopic(text, model)\n",
        "    for user in users:\n",
        "        if topic in user.getHobbies():\n",
        "            recommendations.append(user.id)\n",
        "    return (topic,recommendations)"
      ]
    },
    {
      "cell_type": "markdown",
      "metadata": {
        "id": "mVYSP81glus_"
      },
      "source": [
        "# 7. Simulation\n",
        "\n",
        "Create a number of users and introduce a new headline. It will ​return the id of the users who should be recommended your headline."
      ]
    },
    {
      "cell_type": "code",
      "execution_count": null,
      "metadata": {
        "colab": {
          "base_uri": "https://localhost:8080/"
        },
        "id": "u8wgbOsWKq6N",
        "outputId": "0513fd01-7bc3-4a1e-df87-b6e5858ad506"
      },
      "outputs": [
        {
          "name": "stdout",
          "output_type": "stream",
          "text": [
            "Introduce the number of users to create: 5\n",
            "User ID: 0 ;   Topics of interest: ['TRAVEL', 'ENTERTAINMENT', 'STYLE & BEAUTY', 'WELLNESS', 'POLITICS']\n",
            "User ID: 1 ;   Topics of interest: ['ENTERTAINMENT', 'WELLNESS', 'STYLE & BEAUTY', 'POLITICS']\n",
            "User ID: 2 ;   Topics of interest: ['STYLE & BEAUTY', 'POLITICS', 'ENTERTAINMENT']\n",
            "User ID: 3 ;   Topics of interest: ['STYLE & BEAUTY', 'TRAVEL']\n",
            "User ID: 4 ;   Topics of interest: ['POLITICS']\n",
            "\n",
            "Introduce new headline: Presidential elections in Jamaica\n",
            "\n",
            "Topic of the user news: ['POLITICS']\n",
            "Recommended to users with ID: [0, 1, 2, 4]\n"
          ]
        }
      ],
      "source": [
        "NUM_USERS = int(input(\"Introduce the number of users to create: \"))\n",
        "\n",
        "users = create_users(NUM_USERS)\n",
        "for i in users:\n",
        "  print(f\"User ID: {i.id} ;   Topics of interest: {i.hobbies}\")\n",
        "\n",
        "print(\"\")\n",
        "input_query = input(\"Introduce new headline: \")\n",
        "print(\"\")\n",
        "\n",
        "user_recommendations = recommend(users, input_query, clf)\n",
        "print(f\"Topic of the user news: {user_recommendations[0]}\")\n",
        "print(f\"Recommended to users with ID: {user_recommendations[1]}\")"
      ]
    }
  ],
  "metadata": {
    "colab": {
      "collapsed_sections": [],
      "provenance": [],
      "toc_visible": true
    },
    "kernelspec": {
      "display_name": "Python 3.9.9 64-bit",
      "language": "python",
      "name": "python3"
    },
    "language_info": {
      "name": "python",
      "version": "3.9.9"
    },
    "vscode": {
      "interpreter": {
        "hash": "aee8b7b246df8f9039afb4144a1f6fd8d2ca17a180786b69acc140d282b71a49"
      }
    }
  },
  "nbformat": 4,
  "nbformat_minor": 0
}
